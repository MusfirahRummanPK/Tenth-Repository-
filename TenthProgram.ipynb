{
 "cells": [
  {
   "cell_type": "markdown",
   "id": "b2397377",
   "metadata": {},
   "source": [
    "# Loops in Programming \n",
    "#### Definition :\n",
    "##### A loop is a control structure that allows you to execute a block of code repeatedly for a specified number of times or until a certain condition is met . In Python , loops enable you to iterate over sequences ( like lists , tupules or strings ) or repeat a task while a condition holds true ."
   ]
  },
  {
   "cell_type": "markdown",
   "id": "e5fcd7bf",
   "metadata": {},
   "source": [
    "## Types of Loops in Python \n",
    "##### Python has three main types of loops :\n",
    "### 1. For loop\n",
    "#### Definition :\n",
    "##### A control structure that allows iteration over sequences ( such as lists , tuples or strings ) or other iterable objects , executing a block of code for each item . It is used when number of repetition is known in advance .\n",
    "#### Syntax :"
   ]
  },
  {
   "cell_type": "code",
   "execution_count": null,
   "id": "0081f01a",
   "metadata": {},
   "outputs": [],
   "source": [
    "for variable in range(start, end):\n",
    "    # repeated code here "
   ]
  },
  {
   "cell_type": "markdown",
   "id": "3fc79b25",
   "metadata": {},
   "source": [
    "#### Example :"
   ]
  },
  {
   "cell_type": "code",
   "execution_count": 1,
   "id": "abba3a92",
   "metadata": {},
   "outputs": [
    {
     "name": "stdout",
     "output_type": "stream",
     "text": [
      "1\n",
      "2\n",
      "3\n",
      "4\n",
      "5\n",
      "6\n",
      "7\n"
     ]
    }
   ],
   "source": [
    "for j in range(1, 8):\n",
    "    print(j) "
   ]
  },
  {
   "cell_type": "markdown",
   "id": "8529b33b",
   "metadata": {},
   "source": [
    "### 2. While loop\n",
    "#### Definition :\n",
    "##### A control structure that executes a block of code repeatedly while a specified condition remains true . Used when the number of repetations is not known , but the loop should continue as long as a condition is true .\n",
    "#### Syntax :"
   ]
  },
  {
   "cell_type": "code",
   "execution_count": null,
   "id": "871f7ab2",
   "metadata": {},
   "outputs": [],
   "source": [
    "while condition:\n",
    "    # repeated code here"
   ]
  },
  {
   "cell_type": "markdown",
   "id": "c9e8ac6d",
   "metadata": {},
   "source": [
    "#### Example :"
   ]
  },
  {
   "cell_type": "code",
   "execution_count": 2,
   "id": "63283e47",
   "metadata": {},
   "outputs": [
    {
     "name": "stdout",
     "output_type": "stream",
     "text": [
      "1\n",
      "2\n",
      "3\n",
      "4\n",
      "5\n",
      "6\n",
      "7\n"
     ]
    }
   ],
   "source": [
    "k = 1\n",
    "while k <= 7:\n",
    "    print(k)\n",
    "    k += 1"
   ]
  },
  {
   "cell_type": "markdown",
   "id": "fd4e43aa",
   "metadata": {},
   "source": [
    "### 3. Nested loop\n",
    "#### Definition :\n",
    "##### A nested loop is a loop within a loop . the inner loop will iterate through its entire cycle for each iteration of the outer loop . Used when you need to iterate over multiple sequences or perform complex operations that require looping within the loop .\n",
    "#### Syntax :"
   ]
  },
  {
   "cell_type": "code",
   "execution_count": null,
   "id": "57504b02",
   "metadata": {},
   "outputs": [],
   "source": [
    "for outer_variable in outer_iterable:\n",
    "    for inner_variable in inner_iterable:\n",
    "        # code to execute      "
   ]
  },
  {
   "cell_type": "markdown",
   "id": "b6d2b935",
   "metadata": {},
   "source": [
    "#### Example :"
   ]
  },
  {
   "cell_type": "code",
   "execution_count": 4,
   "id": "024a54d4",
   "metadata": {},
   "outputs": [
    {
     "name": "stdout",
     "output_type": "stream",
     "text": [
      "r=1, m=1\n",
      "r=1, m=2\n",
      "r=1, m=3\n",
      "r=1, m=4\n",
      "r=2, m=1\n",
      "r=2, m=2\n",
      "r=2, m=3\n",
      "r=2, m=4\n",
      "r=3, m=1\n",
      "r=3, m=2\n",
      "r=3, m=3\n",
      "r=3, m=4\n"
     ]
    }
   ],
   "source": [
    "for r in range(1, 4):\n",
    "    for m in range(1, 5):\n",
    "        print(f\"r={r}, m={m}\")"
   ]
  }
 ],
 "metadata": {
  "kernelspec": {
   "display_name": "base",
   "language": "python",
   "name": "python3"
  },
  "language_info": {
   "codemirror_mode": {
    "name": "ipython",
    "version": 3
   },
   "file_extension": ".py",
   "mimetype": "text/x-python",
   "name": "python",
   "nbconvert_exporter": "python",
   "pygments_lexer": "ipython3",
   "version": "3.12.7"
  }
 },
 "nbformat": 4,
 "nbformat_minor": 5
}
